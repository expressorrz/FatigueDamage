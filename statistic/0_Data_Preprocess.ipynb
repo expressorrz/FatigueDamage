{
 "cells": [
  {
   "cell_type": "code",
   "execution_count": 1,
   "metadata": {},
   "outputs": [],
   "source": [
    "import rasterio\n",
    "import glob\n",
    "import numpy as np\n",
    "import os\n",
    "import cv2"
   ]
  },
  {
   "cell_type": "code",
   "execution_count": 2,
   "metadata": {},
   "outputs": [],
   "source": [
    "def load_source(i):\n",
    "    data_list = []\n",
    "    print(f'loading A{i:03}...')\n",
    "    remaining_life_list = []\n",
    "    capture_time_list = []\n",
    "    load_path = f'../rawdataset/A{i:03}'\n",
    "    files = glob.glob(f'{load_path}*.tiff')\n",
    "    # print(files)\n",
    "    for file in files:\n",
    "        camera_id, remaining_life, capture_time = file.split('_')[1:4]\n",
    "        remaining_life_list.append(int(remaining_life))\n",
    "        capture_time_list.append(capture_time)\n",
    "\n",
    "    temp_array = np.concatenate([np.array(remaining_life_list).reshape(-1, 1), np.array(capture_time_list).reshape(-1, 1)], axis=1)\n",
    "    # print(temp_array.shape)\n",
    "\n",
    "    temp_array = temp_array[np.lexsort((temp_array[:, 1], temp_array[:, 0]))]\n",
    "    _, idx = np.unique(temp_array[:, 0], return_index=True)\n",
    "    temp_array = temp_array[np.sort(idx)]\n",
    "\n",
    "    # print(temp_array.shape)\n",
    "\n",
    "    for idx, v in enumerate(temp_array):\n",
    "        tiff_path_0 = f'{load_path}_0_{v[0]}_{v[1]}'\n",
    "        tiff_path_1 = f'{load_path}_1_{v[0]}_{v[1]}'\n",
    "\n",
    "        with rasterio.open(tiff_path_0) as src_0:\n",
    "            with rasterio.open(tiff_path_1) as src_1:\n",
    "                src_0 = np.array(src_0.read())[:, 128:1920, 128:]\n",
    "                src_1 = np.array(src_1.read())[:, 128:1920, :896]\n",
    "\n",
    "                src_0 = [cv2.resize(src_0[i], (512, 512)) for i in range(src_0.shape[0])]\n",
    "                src_1 = [cv2.resize(src_1[i], (512, 512)) for i in range(src_1.shape[0])]\n",
    "\n",
    "                src_0 = np.array(src_0)\n",
    "                src_1 = np.array(src_1)\n",
    "                \n",
    "                # src_0 = src_0.read()\n",
    "                # src_1 = src_1.read()\n",
    "                src = np.concatenate([src_0, src_1], axis=0)\n",
    "\n",
    "                # src = src_0\n",
    "                data_list.append([src, int(v[0]), i])\n",
    "\n",
    "    # x = np.array([data[0] for data in data_list]) \n",
    "    x = np.array([data[0] for data in data_list])\n",
    "    y = np.array([data[1] for data in data_list])\n",
    "        \n",
    "    return x, y"
   ]
  },
  {
   "cell_type": "code",
   "execution_count": 3,
   "metadata": {},
   "outputs": [
    {
     "name": "stdout",
     "output_type": "stream",
     "text": [
      "loading A003...\n"
     ]
    },
    {
     "name": "stderr",
     "output_type": "stream",
     "text": [
      "/home/ruiruizhong/miniconda3/envs/pytorch/lib/python3.8/site-packages/rasterio/__init__.py:304: NotGeoreferencedWarning: Dataset has no geotransform, gcps, or rpcs. The identity matrix will be returned.\n",
      "  dataset = DatasetReader(path, driver=driver, sharing=sharing, **kwargs)\n"
     ]
    },
    {
     "name": "stdout",
     "output_type": "stream",
     "text": [
      "A003 x shape: (64, 2, 512, 512), y shape: (64,)\n",
      "A003 done\n",
      "loading A009...\n",
      "A009 x shape: (73, 2, 512, 512), y shape: (73,)\n",
      "A009 done\n",
      "loading A011...\n",
      "A011 x shape: (166, 2, 512, 512), y shape: (166,)\n",
      "A011 done\n",
      "loading A012...\n",
      "A012 x shape: (64, 2, 512, 512), y shape: (64,)\n",
      "A012 done\n",
      "loading A013...\n",
      "A013 x shape: (59, 2, 512, 512), y shape: (59,)\n",
      "A013 done\n",
      "loading A014...\n",
      "A014 x shape: (93, 2, 512, 512), y shape: (93,)\n",
      "A014 done\n",
      "loading A019...\n",
      "A019 x shape: (134, 2, 512, 512), y shape: (134,)\n",
      "A019 done\n",
      "loading A020...\n",
      "A020 x shape: (27, 2, 512, 512), y shape: (27,)\n",
      "A020 done\n",
      "loading A025...\n",
      "A025 x shape: (49, 2, 512, 512), y shape: (49,)\n",
      "A025 done\n"
     ]
    }
   ],
   "source": [
    "source = [3, 9, 11, 12, 13, 14, 19, 20, 25]\n",
    "# source = [3]\n",
    "\n",
    "\n",
    "for i in source:\n",
    "    os.makedirs(f'../dataset/A{i:03}', exist_ok=True)\n",
    "    x, y = load_source(i)\n",
    "    print(f'A{i:03} x shape: {x.shape}, y shape: {y.shape}')\n",
    "    np.save(f'../dataset/A{i:03}/x.npy', x)\n",
    "    np.save(f'../dataset/A{i:03}/y.npy', y)\n",
    "    print(f'A{i:03} done')"
   ]
  }
 ],
 "metadata": {
  "kernelspec": {
   "display_name": "pytorch",
   "language": "python",
   "name": "python3"
  },
  "language_info": {
   "codemirror_mode": {
    "name": "ipython",
    "version": 3
   },
   "file_extension": ".py",
   "mimetype": "text/x-python",
   "name": "python",
   "nbconvert_exporter": "python",
   "pygments_lexer": "ipython3",
   "version": "3.8.20"
  }
 },
 "nbformat": 4,
 "nbformat_minor": 2
}
