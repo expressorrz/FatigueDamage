{
 "cells": [
  {
   "cell_type": "code",
   "execution_count": 1,
   "metadata": {},
   "outputs": [],
   "source": [
    "import rasterio\n",
    "import glob\n",
    "import numpy as np\n",
    "import os\n"
   ]
  },
  {
   "cell_type": "code",
   "execution_count": 2,
   "metadata": {},
   "outputs": [
    {
     "name": "stdout",
     "output_type": "stream",
     "text": [
      "loading A003...\n",
      "len(remaining_life_list): 198\n",
      "loading A009...\n",
      "len(remaining_life_list): 236\n",
      "loading A011...\n",
      "len(remaining_life_list): 548\n",
      "loading A012...\n",
      "len(remaining_life_list): 212\n",
      "loading A013...\n",
      "len(remaining_life_list): 178\n",
      "loading A014...\n",
      "len(remaining_life_list): 306\n",
      "loading A019...\n",
      "len(remaining_life_list): 456\n",
      "loading A020...\n",
      "len(remaining_life_list): 78\n",
      "loading A025...\n",
      "len(remaining_life_list): 160\n"
     ]
    }
   ],
   "source": [
    "if os.path.exists('rm_list.txt'):\n",
    "    with open('rm_list.txt', 'r') as file:\n",
    "        existing_rm_list = file.read().splitlines()\n",
    "else:\n",
    "    existing_rm_list = []\n",
    "\n",
    "source = [3, 9, 11, 12, 13, 14, 19, 20, 25]\n",
    "# source = [3]\n",
    "\n",
    "rm_list = []\n",
    "for i in source:\n",
    "    print(f'loading A{i:03}...')\n",
    "    remaining_life_list = []\n",
    "    capture_time_list = []\n",
    "    load_path = f'../rawdataset/A{i:03}'\n",
    "    files = glob.glob(f'{load_path}*.tiff')\n",
    "    # print(files)\n",
    "    for file in files:\n",
    "        camera_id, remaining_life, capture_time = file.split('_')[1:4]\n",
    "        remaining_life_list.append(int(remaining_life))\n",
    "        capture_time_list.append(capture_time)\n",
    "\n",
    "    print('len(remaining_life_list):', len(remaining_life_list))\n",
    "\n",
    "    temp_array = np.concatenate([np.array(remaining_life_list).reshape(-1, 1), np.array(capture_time_list).reshape(-1, 1)], axis=1)\n",
    "\n",
    "    temp_array = temp_array[np.lexsort((temp_array[:, 1], temp_array[:, 0]))]\n",
    "    \n",
    "    # _, idx = np.unique(temp_array[:, 0], return_index=True)\n",
    "    # temp_array = temp_array[np.sort(idx)]\n",
    "    \n",
    "    for idx, v in enumerate(temp_array):\n",
    "        tiff_path_0 = f'{load_path}_0_{v[0]}_{v[1]}'\n",
    "        tiff_path_1 = f'{load_path}_1_{v[0]}_{v[1]}'\n",
    "\n",
    "        if not os.path.exists(tiff_path_0):\n",
    "            print(f'{tiff_path_0} not found')\n",
    "            os.remove(tiff_path_1)\n",
    "            rm_list.append(tiff_path_1)\n",
    "            continue\n",
    "        if not os.path.exists(tiff_path_1):\n",
    "            print(f'{tiff_path_1} not found')\n",
    "            os.remove(tiff_path_0)\n",
    "            rm_list.append(tiff_path_0)\n",
    "            continue\n",
    "\n",
    "# 拼接现有的 rm_list 和新的 rm_list\n",
    "rm_list = existing_rm_list + rm_list\n",
    "\n",
    "# 保存拼接后的 rm_list\n",
    "np.savetxt('rm_list.txt', rm_list, fmt='%s')"
   ]
  }
 ],
 "metadata": {
  "kernelspec": {
   "display_name": "pytorch",
   "language": "python",
   "name": "python3"
  },
  "language_info": {
   "codemirror_mode": {
    "name": "ipython",
    "version": 3
   },
   "file_extension": ".py",
   "mimetype": "text/x-python",
   "name": "python",
   "nbconvert_exporter": "python",
   "pygments_lexer": "ipython3",
   "version": "3.8.20"
  }
 },
 "nbformat": 4,
 "nbformat_minor": 2
}
